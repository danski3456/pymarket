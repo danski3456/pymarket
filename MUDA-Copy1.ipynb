{
 "cells": [
  {
   "cell_type": "code",
   "execution_count": 1,
   "metadata": {},
   "outputs": [],
   "source": [
    "%matplotlib inline\n",
    "import numpy as np\n",
    "import pandas as pd\n",
    "import matplotlib.pyplot as plt\n",
    "import networkx as nx\n",
    "from pymarket import Market\n",
    "from pymarket.bids.demand_curves import demand_curve_from_bids, supply_curve_from_bids\n",
    "from pymarket.plot import plot_demand_curves"
   ]
  },
  {
   "cell_type": "markdown",
   "metadata": {},
   "source": [
    "# Creates new market"
   ]
  },
  {
   "cell_type": "code",
   "execution_count": 2,
   "metadata": {},
   "outputs": [
    {
     "name": "stdout",
     "output_type": "stream",
     "text": [
      "   quantity  price  user  buying  time  divisible\n",
      "1         2      4     1    True     0       True\n",
      "4         1      1     4   False     0       True\n",
      "   quantity  price  user  buying  time  divisible\n",
      "1         2      4     1    True     0       True <class 'pandas.core.frame.DataFrame'>\n",
      "   quantity  price  user  buying  time  divisible\n",
      "0         1      3     0    True     0       True\n",
      "2         5      1     2    True     0       True\n",
      "3         4      2     3   False     0       True\n",
      "5         5      6     5   False     0       True\n",
      "   quantity  price  user  buying  time  divisible\n",
      "0         1      3     0    True     0       True\n",
      "2         5      1     2    True     0       True <class 'pandas.core.frame.DataFrame'>\n"
     ]
    }
   ],
   "source": [
    "r = np.random.RandomState(1234)\n",
    "mar = Market()\n",
    "    \n",
    "mar.accept_bid(1, 3, 0, True, 0)\n",
    "mar.accept_bid(2, 4, 1, True, 0)\n",
    "mar.accept_bid(5, 1, 2, True, 0)\n",
    "\n",
    "mar.accept_bid(4, 2, 3, False, 0)\n",
    "mar.accept_bid(1, 1, 4, False, 0)\n",
    "mar.accept_bid(5, 6, 5, False, 0)\n",
    "bids = mar.bm.get_df()\n",
    "transactions, extras = mar.run('muda')"
   ]
  },
  {
   "cell_type": "code",
   "execution_count": 3,
   "metadata": {},
   "outputs": [
    {
     "data": {
      "text/plain": [
       "{'left': [1, 4],\n",
       " 'right': [0, 2, 3, 5],\n",
       " 'price_left': 4.0,\n",
       " 'price_right': 2.0,\n",
       " 'fees': array([0., 0., 0., 0., 0., 0.])}"
      ]
     },
     "execution_count": 3,
     "metadata": {},
     "output_type": "execute_result"
    }
   ],
   "source": [
    "extras"
   ]
  },
  {
   "cell_type": "code",
   "execution_count": 4,
   "metadata": {},
   "outputs": [
    {
     "data": {
      "text/html": [
       "<div>\n",
       "<style scoped>\n",
       "    .dataframe tbody tr th:only-of-type {\n",
       "        vertical-align: middle;\n",
       "    }\n",
       "\n",
       "    .dataframe tbody tr th {\n",
       "        vertical-align: top;\n",
       "    }\n",
       "\n",
       "    .dataframe thead th {\n",
       "        text-align: right;\n",
       "    }\n",
       "</style>\n",
       "<table border=\"1\" class=\"dataframe\">\n",
       "  <thead>\n",
       "    <tr style=\"text-align: right;\">\n",
       "      <th></th>\n",
       "      <th>quantity</th>\n",
       "      <th>price</th>\n",
       "      <th>user</th>\n",
       "      <th>buying</th>\n",
       "      <th>time</th>\n",
       "      <th>divisible</th>\n",
       "    </tr>\n",
       "  </thead>\n",
       "  <tbody>\n",
       "    <tr>\n",
       "      <th>0</th>\n",
       "      <td>1</td>\n",
       "      <td>3</td>\n",
       "      <td>0</td>\n",
       "      <td>True</td>\n",
       "      <td>0</td>\n",
       "      <td>True</td>\n",
       "    </tr>\n",
       "    <tr>\n",
       "      <th>1</th>\n",
       "      <td>2</td>\n",
       "      <td>4</td>\n",
       "      <td>1</td>\n",
       "      <td>True</td>\n",
       "      <td>0</td>\n",
       "      <td>True</td>\n",
       "    </tr>\n",
       "    <tr>\n",
       "      <th>2</th>\n",
       "      <td>5</td>\n",
       "      <td>1</td>\n",
       "      <td>2</td>\n",
       "      <td>True</td>\n",
       "      <td>0</td>\n",
       "      <td>True</td>\n",
       "    </tr>\n",
       "    <tr>\n",
       "      <th>3</th>\n",
       "      <td>4</td>\n",
       "      <td>2</td>\n",
       "      <td>3</td>\n",
       "      <td>False</td>\n",
       "      <td>0</td>\n",
       "      <td>True</td>\n",
       "    </tr>\n",
       "    <tr>\n",
       "      <th>4</th>\n",
       "      <td>1</td>\n",
       "      <td>1</td>\n",
       "      <td>4</td>\n",
       "      <td>False</td>\n",
       "      <td>0</td>\n",
       "      <td>True</td>\n",
       "    </tr>\n",
       "    <tr>\n",
       "      <th>5</th>\n",
       "      <td>5</td>\n",
       "      <td>6</td>\n",
       "      <td>5</td>\n",
       "      <td>False</td>\n",
       "      <td>0</td>\n",
       "      <td>True</td>\n",
       "    </tr>\n",
       "  </tbody>\n",
       "</table>\n",
       "</div>"
      ],
      "text/plain": [
       "   quantity  price  user  buying  time  divisible\n",
       "0         1      3     0    True     0       True\n",
       "1         2      4     1    True     0       True\n",
       "2         5      1     2    True     0       True\n",
       "3         4      2     3   False     0       True\n",
       "4         1      1     4   False     0       True\n",
       "5         5      6     5   False     0       True"
      ]
     },
     "execution_count": 4,
     "metadata": {},
     "output_type": "execute_result"
    }
   ],
   "source": [
    "bids"
   ]
  },
  {
   "cell_type": "code",
   "execution_count": 5,
   "metadata": {},
   "outputs": [
    {
     "data": {
      "text/html": [
       "<div>\n",
       "<style scoped>\n",
       "    .dataframe tbody tr th:only-of-type {\n",
       "        vertical-align: middle;\n",
       "    }\n",
       "\n",
       "    .dataframe tbody tr th {\n",
       "        vertical-align: top;\n",
       "    }\n",
       "\n",
       "    .dataframe thead th {\n",
       "        text-align: right;\n",
       "    }\n",
       "</style>\n",
       "<table border=\"1\" class=\"dataframe\">\n",
       "  <thead>\n",
       "    <tr style=\"text-align: right;\">\n",
       "      <th></th>\n",
       "      <th>bid</th>\n",
       "      <th>quantity</th>\n",
       "      <th>price</th>\n",
       "      <th>source</th>\n",
       "      <th>active</th>\n",
       "    </tr>\n",
       "  </thead>\n",
       "  <tbody>\n",
       "    <tr>\n",
       "      <th>0</th>\n",
       "      <td>4</td>\n",
       "      <td>1</td>\n",
       "      <td>2.0</td>\n",
       "      <td>-1</td>\n",
       "      <td>False</td>\n",
       "    </tr>\n",
       "    <tr>\n",
       "      <th>1</th>\n",
       "      <td>1</td>\n",
       "      <td>1</td>\n",
       "      <td>2.0</td>\n",
       "      <td>-1</td>\n",
       "      <td>False</td>\n",
       "    </tr>\n",
       "  </tbody>\n",
       "</table>\n",
       "</div>"
      ],
      "text/plain": [
       "   bid  quantity  price  source  active\n",
       "0    4         1    2.0      -1   False\n",
       "1    1         1    2.0      -1   False"
      ]
     },
     "execution_count": 5,
     "metadata": {},
     "output_type": "execute_result"
    }
   ],
   "source": [
    "transactions.get_df()"
   ]
  },
  {
   "cell_type": "code",
   "execution_count": 6,
   "metadata": {},
   "outputs": [],
   "source": [
    "xx = mar.statistics(reservation_prices={4:0.5})['profits']"
   ]
  },
  {
   "cell_type": "code",
   "execution_count": 7,
   "metadata": {},
   "outputs": [
    {
     "data": {
      "text/plain": [
       "{'player_bid': [0, 1.0, 0, 0, 1.0, 0],\n",
       " 'market': 0.0,\n",
       " 'player_reservation': [0, 1.0, 0, 0, 1.5, 0]}"
      ]
     },
     "execution_count": 7,
     "metadata": {},
     "output_type": "execute_result"
    }
   ],
   "source": [
    "xx"
   ]
  },
  {
   "cell_type": "code",
   "execution_count": 15,
   "metadata": {},
   "outputs": [],
   "source": [
    "y = np.arange(5)"
   ]
  },
  {
   "cell_type": "code",
   "execution_count": 16,
   "metadata": {},
   "outputs": [
    {
     "data": {
      "text/plain": [
       "array([1, 4])"
      ]
     },
     "execution_count": 16,
     "metadata": {},
     "output_type": "execute_result"
    }
   ],
   "source": [
    "y[xx.index.values]"
   ]
  },
  {
   "cell_type": "code",
   "execution_count": 23,
   "metadata": {},
   "outputs": [
    {
     "data": {
      "text/plain": [
       "1.5"
      ]
     },
     "execution_count": 23,
     "metadata": {},
     "output_type": "execute_result"
    }
   ],
   "source": [
    "xx.get(4, 0)"
   ]
  },
  {
   "cell_type": "code",
   "execution_count": 9,
   "metadata": {},
   "outputs": [],
   "source": [
    "def get_gain(row):\n",
    "        \"\"\"Finds the gain of the row\n",
    "\n",
    "        Parameters\n",
    "        ----------\n",
    "        row : TODO\n",
    "\n",
    "        Returns\n",
    "        -------\n",
    "        TODO\n",
    "\n",
    "        \"\"\"\n",
    "        gap = row.price_y - row.price_x\n",
    "        if not row.buying:\n",
    "            gap = - gap\n",
    "        return gap * row.quantity\n"
   ]
  },
  {
   "cell_type": "code",
   "execution_count": 10,
   "metadata": {},
   "outputs": [],
   "source": [
    "xx['gain'] = xx.apply(lambda x: get_gain(x), axis=1)"
   ]
  },
  {
   "cell_type": "code",
   "execution_count": 14,
   "metadata": {},
   "outputs": [
    {
     "data": {
      "text/plain": [
       "user\n",
       "1    1.0\n",
       "4    1.0\n",
       "Name: gain, dtype: float64"
      ]
     },
     "execution_count": 14,
     "metadata": {},
     "output_type": "execute_result"
    }
   ],
   "source": [
    "xx.groupby('user')['gain'].sum()"
   ]
  },
  {
   "cell_type": "code",
   "execution_count": 7,
   "metadata": {},
   "outputs": [
    {
     "data": {
      "text/html": [
       "<div>\n",
       "<style scoped>\n",
       "    .dataframe tbody tr th:only-of-type {\n",
       "        vertical-align: middle;\n",
       "    }\n",
       "\n",
       "    .dataframe tbody tr th {\n",
       "        vertical-align: top;\n",
       "    }\n",
       "\n",
       "    .dataframe thead th {\n",
       "        text-align: right;\n",
       "    }\n",
       "</style>\n",
       "<table border=\"1\" class=\"dataframe\">\n",
       "  <thead>\n",
       "    <tr style=\"text-align: right;\">\n",
       "      <th></th>\n",
       "      <th>quantity</th>\n",
       "      <th>price</th>\n",
       "      <th>user</th>\n",
       "      <th>buying</th>\n",
       "      <th>time</th>\n",
       "      <th>divisible</th>\n",
       "    </tr>\n",
       "  </thead>\n",
       "  <tbody>\n",
       "    <tr>\n",
       "      <th>0</th>\n",
       "      <td>1</td>\n",
       "      <td>3</td>\n",
       "      <td>0</td>\n",
       "      <td>True</td>\n",
       "      <td>0</td>\n",
       "      <td>True</td>\n",
       "    </tr>\n",
       "    <tr>\n",
       "      <th>1</th>\n",
       "      <td>2</td>\n",
       "      <td>4</td>\n",
       "      <td>1</td>\n",
       "      <td>True</td>\n",
       "      <td>0</td>\n",
       "      <td>True</td>\n",
       "    </tr>\n",
       "    <tr>\n",
       "      <th>2</th>\n",
       "      <td>5</td>\n",
       "      <td>1</td>\n",
       "      <td>2</td>\n",
       "      <td>True</td>\n",
       "      <td>0</td>\n",
       "      <td>True</td>\n",
       "    </tr>\n",
       "    <tr>\n",
       "      <th>3</th>\n",
       "      <td>4</td>\n",
       "      <td>2</td>\n",
       "      <td>3</td>\n",
       "      <td>False</td>\n",
       "      <td>0</td>\n",
       "      <td>True</td>\n",
       "    </tr>\n",
       "    <tr>\n",
       "      <th>4</th>\n",
       "      <td>1</td>\n",
       "      <td>1</td>\n",
       "      <td>4</td>\n",
       "      <td>False</td>\n",
       "      <td>0</td>\n",
       "      <td>True</td>\n",
       "    </tr>\n",
       "    <tr>\n",
       "      <th>5</th>\n",
       "      <td>5</td>\n",
       "      <td>6</td>\n",
       "      <td>5</td>\n",
       "      <td>False</td>\n",
       "      <td>0</td>\n",
       "      <td>True</td>\n",
       "    </tr>\n",
       "  </tbody>\n",
       "</table>\n",
       "</div>"
      ],
      "text/plain": [
       "   quantity  price  user  buying  time  divisible\n",
       "0         1      3     0    True     0       True\n",
       "1         2      4     1    True     0       True\n",
       "2         5      1     2    True     0       True\n",
       "3         4      2     3   False     0       True\n",
       "4         1      1     4   False     0       True\n",
       "5         5      6     5   False     0       True"
      ]
     },
     "execution_count": 7,
     "metadata": {},
     "output_type": "execute_result"
    }
   ],
   "source": [
    "bids"
   ]
  },
  {
   "cell_type": "code",
   "execution_count": 8,
   "metadata": {},
   "outputs": [],
   "source": [
    "tmp = bids.reset_index().rename(columns={'index': 'bid'})"
   ]
  },
  {
   "cell_type": "code",
   "execution_count": 9,
   "metadata": {},
   "outputs": [],
   "source": [
    "aux = {0: 1, 3:5}"
   ]
  },
  {
   "cell_type": "code",
   "execution_count": 10,
   "metadata": {},
   "outputs": [
    {
     "data": {
      "text/html": [
       "<div>\n",
       "<style scoped>\n",
       "    .dataframe tbody tr th:only-of-type {\n",
       "        vertical-align: middle;\n",
       "    }\n",
       "\n",
       "    .dataframe tbody tr th {\n",
       "        vertical-align: top;\n",
       "    }\n",
       "\n",
       "    .dataframe thead th {\n",
       "        text-align: right;\n",
       "    }\n",
       "</style>\n",
       "<table border=\"1\" class=\"dataframe\">\n",
       "  <thead>\n",
       "    <tr style=\"text-align: right;\">\n",
       "      <th></th>\n",
       "      <th>bid</th>\n",
       "      <th>quantity</th>\n",
       "      <th>price</th>\n",
       "      <th>user</th>\n",
       "      <th>buying</th>\n",
       "      <th>time</th>\n",
       "      <th>divisible</th>\n",
       "    </tr>\n",
       "  </thead>\n",
       "  <tbody>\n",
       "    <tr>\n",
       "      <th>0</th>\n",
       "      <td>0</td>\n",
       "      <td>1</td>\n",
       "      <td>3</td>\n",
       "      <td>0</td>\n",
       "      <td>True</td>\n",
       "      <td>0</td>\n",
       "      <td>True</td>\n",
       "    </tr>\n",
       "    <tr>\n",
       "      <th>1</th>\n",
       "      <td>1</td>\n",
       "      <td>2</td>\n",
       "      <td>4</td>\n",
       "      <td>1</td>\n",
       "      <td>True</td>\n",
       "      <td>0</td>\n",
       "      <td>True</td>\n",
       "    </tr>\n",
       "    <tr>\n",
       "      <th>2</th>\n",
       "      <td>2</td>\n",
       "      <td>5</td>\n",
       "      <td>1</td>\n",
       "      <td>2</td>\n",
       "      <td>True</td>\n",
       "      <td>0</td>\n",
       "      <td>True</td>\n",
       "    </tr>\n",
       "    <tr>\n",
       "      <th>3</th>\n",
       "      <td>3</td>\n",
       "      <td>4</td>\n",
       "      <td>2</td>\n",
       "      <td>3</td>\n",
       "      <td>False</td>\n",
       "      <td>0</td>\n",
       "      <td>True</td>\n",
       "    </tr>\n",
       "    <tr>\n",
       "      <th>4</th>\n",
       "      <td>4</td>\n",
       "      <td>1</td>\n",
       "      <td>1</td>\n",
       "      <td>4</td>\n",
       "      <td>False</td>\n",
       "      <td>0</td>\n",
       "      <td>True</td>\n",
       "    </tr>\n",
       "    <tr>\n",
       "      <th>5</th>\n",
       "      <td>5</td>\n",
       "      <td>5</td>\n",
       "      <td>6</td>\n",
       "      <td>5</td>\n",
       "      <td>False</td>\n",
       "      <td>0</td>\n",
       "      <td>True</td>\n",
       "    </tr>\n",
       "  </tbody>\n",
       "</table>\n",
       "</div>"
      ],
      "text/plain": [
       "   bid  quantity  price  user  buying  time  divisible\n",
       "0    0         1      3     0    True     0       True\n",
       "1    1         2      4     1    True     0       True\n",
       "2    2         5      1     2    True     0       True\n",
       "3    3         4      2     3   False     0       True\n",
       "4    4         1      1     4   False     0       True\n",
       "5    5         5      6     5   False     0       True"
      ]
     },
     "execution_count": 10,
     "metadata": {},
     "output_type": "execute_result"
    }
   ],
   "source": [
    "tmp"
   ]
  },
  {
   "cell_type": "code",
   "execution_count": 11,
   "metadata": {},
   "outputs": [
    {
     "data": {
      "text/plain": [
       "0    1\n",
       "1    4\n",
       "2    1\n",
       "3    5\n",
       "4    1\n",
       "5    6\n",
       "dtype: int64"
      ]
     },
     "execution_count": 11,
     "metadata": {},
     "output_type": "execute_result"
    }
   ],
   "source": [
    "tmp.apply(lambda x: aux.get(x.user, x.price), axis=1)"
   ]
  },
  {
   "cell_type": "code",
   "execution_count": 12,
   "metadata": {},
   "outputs": [],
   "source": [
    "reservation_prices = {}\n",
    "buyers = bids.loc[bids['buying']].index.values\n",
    "sellers = bids.loc[~bids['buying']].index.values\n",
    "#print(buyers, sellers)\n",
    "index = [(i, j) for i in buyers for j in sellers]\n",
    "#print(index)\n",
    "for i, x in bids.iterrows():\n",
    "    if i not in reservation_prices:\n",
    "        reservation_prices[i] = x.price"
   ]
  },
  {
   "cell_type": "code",
   "execution_count": 13,
   "metadata": {},
   "outputs": [],
   "source": [
    "coefficients = {}\n",
    "for x in index:\n",
    "    coefficients[x] = reservation_prices[x[0]] - reservation_prices[x[1]]\n",
    "\n",
    "coefficients2 = {}\n",
    "for x in index:\n",
    "    coefficients2[x] = bids.iloc[x[0], 1] - bids.iloc[x[1], 1]\n"
   ]
  },
  {
   "cell_type": "code",
   "execution_count": 14,
   "metadata": {},
   "outputs": [
    {
     "name": "stdout",
     "output_type": "stream",
     "text": [
      "{(0, 3): 1, (0, 4): 2, (0, 5): -3, (1, 3): 2, (1, 4): 3, (1, 5): -2, (2, 3): -1, (2, 4): 0, (2, 5): -5} {(0, 3): 1, (0, 4): 2, (0, 5): -3, (1, 3): 2, (1, 4): 3, (1, 5): -2, (2, 3): -1, (2, 4): 0, (2, 5): -5}\n"
     ]
    }
   ],
   "source": [
    "print(coefficients, coefficients2)"
   ]
  },
  {
   "cell_type": "code",
   "execution_count": 15,
   "metadata": {},
   "outputs": [
    {
     "name": "stdout",
     "output_type": "stream",
     "text": [
      "(0, 3) 1 1\n",
      "(0, 4) 2 2\n",
      "(0, 5) -3 -3\n",
      "(1, 3) 2 2\n",
      "(1, 4) 3 3\n",
      "(1, 5) -2 -2\n",
      "(2, 3) -1 -1\n",
      "(2, 4) 0 0\n",
      "(2, 5) -5 -5\n"
     ]
    },
    {
     "data": {
      "text/plain": [
       "{0: 3, 1: 4, 2: 1, 3: 2, 4: 1, 5: 6}"
      ]
     },
     "execution_count": 15,
     "metadata": {},
     "output_type": "execute_result"
    }
   ],
   "source": [
    "for x in index:\n",
    "    print(x, bids.iloc[x[0], 1]- bids.iloc[x[1], 1], reservation_prices[x[0]] - reservation_prices[x[1]])\n",
    "reservation_prices"
   ]
  },
  {
   "cell_type": "code",
   "execution_count": 16,
   "metadata": {},
   "outputs": [
    {
     "ename": "NameError",
     "evalue": "name 'yy' is not defined",
     "output_type": "error",
     "traceback": [
      "\u001b[0;31m---------------------------------------------------------------------------\u001b[0m",
      "\u001b[0;31mNameError\u001b[0m                                 Traceback (most recent call last)",
      "\u001b[0;32m<ipython-input-16-6daa41ef554c>\u001b[0m in \u001b[0;36m<module>\u001b[0;34m\u001b[0m\n\u001b[0;32m----> 1\u001b[0;31m \u001b[0myy\u001b[0m\u001b[0;34m\u001b[0m\u001b[0;34m\u001b[0m\u001b[0m\n\u001b[0m",
      "\u001b[0;31mNameError\u001b[0m: name 'yy' is not defined"
     ]
    }
   ],
   "source": [
    "yy"
   ]
  },
  {
   "cell_type": "markdown",
   "metadata": {},
   "source": [
    "## Orignal supply and demand curves"
   ]
  },
  {
   "cell_type": "code",
   "execution_count": null,
   "metadata": {},
   "outputs": [],
   "source": [
    "mar.plot()"
   ]
  },
  {
   "cell_type": "markdown",
   "metadata": {},
   "source": [
    "## Supply and demand curves after market is splitted"
   ]
  },
  {
   "cell_type": "code",
   "execution_count": null,
   "metadata": {},
   "outputs": [],
   "source": [
    "fig, ax = plt.subplots(1, 2, figsize=(12, 6))\n",
    "plot_demand_curves(bids[bids.index.isin(extras['left'])], ax=ax[0])\n",
    "ax[0].axhline(extras['price_right'], linestyle='--', c='k', label='Trading price determined by right players')\n",
    "ax[0].legend()\n",
    "ax[0].set_title('Left players')\n",
    "\n",
    "plot_demand_curves(bids[bids.index.isin(extras['right'])], ax=ax[1])\n",
    "ax[1].axhline(extras['price_left'], linestyle='--', c='k', label='Trading price determined by left players')\n",
    "ax[1].legend()\n",
    "_ = ax[1].set_title('Right players')"
   ]
  },
  {
   "cell_type": "markdown",
   "metadata": {},
   "source": [
    "## Analysis of the Left Side\n",
    "\n",
    "### Participants\n",
    "\n",
    "* Buying: 1, 3, 4\n",
    "* Selling: 7, 8, 9\n",
    "\n",
    "### Trading price\n",
    "\n",
    "* $6.3$\n",
    "\n",
    "### Results\n",
    "\n",
    "* The long side is the supply, all demand side buys as much as they want\n",
    "* The demand side pays no fees, they are the short side\n",
    "* Bid 7, results in bid 9 not trading a unit, so the fee is $ 1 \\times (6.3 - 4) = 2.3$\n",
    "* Bid 8, results in bid 9 not trading a 2 units so the fee is $2 \\times (6.3 - 4) = 4.6$"
   ]
  },
  {
   "cell_type": "markdown",
   "metadata": {},
   "source": [
    "## Analysis of the Right Side\n",
    "\n",
    "### Participants\n",
    "\n",
    "* Buying: 0, 2, 5\n",
    "* Selling: 6, 10 (10 does not trade because bid price is greater than trading price)\n",
    "\n",
    "### Trading price\n",
    "\n",
    "* 4.65\n",
    "\n",
    "### Results\n",
    "\n",
    "* The long side is the demand, all supply side buys as much as they want\n",
    "* The supply side pays no fees, they are the short side\n",
    "* Bid 0, results in bid 2 not trading a unit, so the fee is $ 1 \\times (6.5 - 4.65) = 1.85$"
   ]
  },
  {
   "cell_type": "code",
   "execution_count": null,
   "metadata": {},
   "outputs": [],
   "source": [
    "reservation_prices = {}\n",
    "buyers = bids.loc[bids['buying']].index.values\n",
    "sellers = bids.loc[~bids['buying']].index.values\n",
    "print(buyers, sellers)\n",
    "index = [(i, j) for i in buyers for j in sellers]\n",
    "print(index)\n",
    "for i, x in bids.iterrows():\n",
    "    print(x.price, bids.iloc[i, 1])\n",
    "    if i not in reservation_prices:\n",
    "        reservation_prices[i] = x.price"
   ]
  },
  {
   "cell_type": "code",
   "execution_count": null,
   "metadata": {},
   "outputs": [],
   "source": [
    "reservation_prices"
   ]
  },
  {
   "cell_type": "code",
   "execution_count": null,
   "metadata": {},
   "outputs": [],
   "source": [
    "for x in index:\n",
    "    print(x, bids.iloc[x[0], 1] - bids.iloc[x[1], 1])\n",
    "    print(x, reservation_prices[x[0]] - reservation_prices[x[1]])"
   ]
  },
  {
   "cell_type": "code",
   "execution_count": null,
   "metadata": {},
   "outputs": [],
   "source": [
    "for i, b in bids.iterrows():\n",
    "    print(i, b.price)"
   ]
  },
  {
   "cell_type": "code",
   "execution_count": null,
   "metadata": {},
   "outputs": [],
   "source": [
    "transactions.get_df().values"
   ]
  },
  {
   "cell_type": "code",
   "execution_count": null,
   "metadata": {},
   "outputs": [],
   "source": [
    "extras['fees']"
   ]
  },
  {
   "cell_type": "code",
   "execution_count": null,
   "metadata": {},
   "outputs": [],
   "source": []
  },
  {
   "cell_type": "code",
   "execution_count": null,
   "metadata": {},
   "outputs": [],
   "source": [
    "bids"
   ]
  },
  {
   "cell_type": "code",
   "execution_count": null,
   "metadata": {},
   "outputs": [],
   "source": [
    "extra['left']"
   ]
  },
  {
   "cell_type": "code",
   "execution_count": null,
   "metadata": {},
   "outputs": [],
   "source": [
    "extra['right']"
   ]
  },
  {
   "cell_type": "code",
   "execution_count": null,
   "metadata": {},
   "outputs": [],
   "source": []
  }
 ],
 "metadata": {
  "kernelspec": {
   "display_name": "Python 3",
   "language": "python",
   "name": "python3"
  },
  "language_info": {
   "codemirror_mode": {
    "name": "ipython",
    "version": 3
   },
   "file_extension": ".py",
   "mimetype": "text/x-python",
   "name": "python",
   "nbconvert_exporter": "python",
   "pygments_lexer": "ipython3",
   "version": "3.6.8"
  }
 },
 "nbformat": 4,
 "nbformat_minor": 2
}
