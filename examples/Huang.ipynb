{
 "cells": [
  {
   "cell_type": "code",
   "execution_count": 8,
   "metadata": {},
   "outputs": [
    {
     "ename": "NameError",
     "evalue": "name '__file__' is not defined",
     "output_type": "error",
     "traceback": [
      "\u001b[0;31m---------------------------------------------------------------------------\u001b[0m",
      "\u001b[0;31mNameError\u001b[0m                                 Traceback (most recent call last)",
      "\u001b[0;32m<ipython-input-8-186417d02eaa>\u001b[0m in \u001b[0;36m<module>\u001b[0;34m\u001b[0m\n\u001b[1;32m      2\u001b[0m \u001b[0;32mimport\u001b[0m \u001b[0mos\u001b[0m\u001b[0;34m.\u001b[0m\u001b[0mpath\u001b[0m\u001b[0;34m\u001b[0m\u001b[0;34m\u001b[0m\u001b[0m\n\u001b[1;32m      3\u001b[0m sys.path.append(\n\u001b[0;32m----> 4\u001b[0;31m     os.path.abspath(os.path.join(os.path.dirname(__file__), os.path.pardir)))\n\u001b[0m",
      "\u001b[0;31mNameError\u001b[0m: name '__file__' is not defined"
     ]
    }
   ],
   "source": [
    "import sys\n",
    "import os.path\n",
    "sys.path.append(\n",
    "    os.path.abspath(os.path.join(os.path.dirname(__file__), os.path.pardir)))"
   ]
  },
  {
   "cell_type": "code",
   "execution_count": 7,
   "metadata": {},
   "outputs": [
    {
     "ename": "ModuleNotFoundError",
     "evalue": "No module named 'pymarket.bids'",
     "output_type": "error",
     "traceback": [
      "\u001b[0;31m---------------------------------------------------------------------------\u001b[0m",
      "\u001b[0;31mModuleNotFoundError\u001b[0m                       Traceback (most recent call last)",
      "\u001b[0;32m<ipython-input-7-a081262fc3c3>\u001b[0m in \u001b[0;36m<module>\u001b[0;34m\u001b[0m\n\u001b[1;32m      4\u001b[0m \u001b[0;32mimport\u001b[0m \u001b[0mmatplotlib\u001b[0m\u001b[0;34m.\u001b[0m\u001b[0mpyplot\u001b[0m \u001b[0;32mas\u001b[0m \u001b[0mplt\u001b[0m\u001b[0;34m\u001b[0m\u001b[0;34m\u001b[0m\u001b[0m\n\u001b[1;32m      5\u001b[0m \u001b[0;32mimport\u001b[0m \u001b[0mnetworkx\u001b[0m \u001b[0;32mas\u001b[0m \u001b[0mnx\u001b[0m\u001b[0;34m\u001b[0m\u001b[0;34m\u001b[0m\u001b[0m\n\u001b[0;32m----> 6\u001b[0;31m \u001b[0;32mfrom\u001b[0m \u001b[0mpymarket\u001b[0m \u001b[0;32mimport\u001b[0m \u001b[0mMarket\u001b[0m\u001b[0;34m\u001b[0m\u001b[0;34m\u001b[0m\u001b[0m\n\u001b[0m\u001b[1;32m      7\u001b[0m \u001b[0;32mfrom\u001b[0m \u001b[0mpymarket\u001b[0m\u001b[0;34m.\u001b[0m\u001b[0mbids\u001b[0m\u001b[0;34m.\u001b[0m\u001b[0mdemand_curves\u001b[0m \u001b[0;32mimport\u001b[0m \u001b[0mdemand_curve_from_bids\u001b[0m\u001b[0;34m,\u001b[0m \u001b[0msupply_curve_from_bids\u001b[0m\u001b[0;34m\u001b[0m\u001b[0;34m\u001b[0m\u001b[0m\n\u001b[1;32m      8\u001b[0m \u001b[0;32mfrom\u001b[0m \u001b[0mpymarket\u001b[0m\u001b[0;34m.\u001b[0m\u001b[0mplot\u001b[0m \u001b[0;32mimport\u001b[0m \u001b[0mplot_demand_curves\u001b[0m\u001b[0;34m\u001b[0m\u001b[0;34m\u001b[0m\u001b[0m\n",
      "\u001b[0;32m~/anaconda3/lib/python3.6/site-packages/pymarket-0.5.5-py3.6.egg/pymarket/__init__.py\u001b[0m in \u001b[0;36m<module>\u001b[0;34m\u001b[0m\n\u001b[1;32m      1\u001b[0m \u001b[0;31m# -*- coding: utf-8 -*-\u001b[0m\u001b[0;34m\u001b[0m\u001b[0;34m\u001b[0m\u001b[0;34m\u001b[0m\u001b[0m\n\u001b[1;32m      2\u001b[0m \u001b[0;34m\u001b[0m\u001b[0m\n\u001b[0;32m----> 3\u001b[0;31m \u001b[0;32mimport\u001b[0m \u001b[0mpymarket\u001b[0m\u001b[0;34m.\u001b[0m\u001b[0mbids\u001b[0m\u001b[0;34m\u001b[0m\u001b[0;34m\u001b[0m\u001b[0m\n\u001b[0m\u001b[1;32m      4\u001b[0m \u001b[0;32mimport\u001b[0m \u001b[0mpymarket\u001b[0m\u001b[0;34m.\u001b[0m\u001b[0mmechanisms\u001b[0m\u001b[0;34m\u001b[0m\u001b[0;34m\u001b[0m\u001b[0m\n\u001b[1;32m      5\u001b[0m \u001b[0;32mimport\u001b[0m \u001b[0mpymarket\u001b[0m\u001b[0;34m.\u001b[0m\u001b[0mstatistics\u001b[0m\u001b[0;34m\u001b[0m\u001b[0;34m\u001b[0m\u001b[0m\n",
      "\u001b[0;31mModuleNotFoundError\u001b[0m: No module named 'pymarket.bids'"
     ]
    }
   ],
   "source": [
    "%matplotlib inline\n",
    "import numpy as np\n",
    "import pandas as pd\n",
    "import matplotlib.pyplot as plt\n",
    "import networkx as nx\n",
    "from pymarket import Market\n",
    "from pymarket.bids.demand_curves import demand_curve_from_bids, supply_curve_from_bids\n",
    "from pymarket.plot import plot_demand_curves"
   ]
  },
  {
   "cell_type": "markdown",
   "metadata": {},
   "source": [
    "# Creates new market"
   ]
  },
  {
   "cell_type": "code",
   "execution_count": 2,
   "metadata": {},
   "outputs": [
    {
     "name": "stdout",
     "output_type": "stream",
     "text": [
      "    bid  quantity  price  user  buying  time  divisible\n",
      "0     0         1    6.7     0    True     0       True\n",
      "1     1         1    6.6     1    True     0       True\n",
      "2     2         1    6.5     2    True     0       True\n",
      "3     3         1    6.4     3    True     0       True\n",
      "4     4         1    6.3     4    True     0       True\n",
      "5     5         1    6.0     5    True     0       True\n",
      "6     6         1    1.0     6   False     0       True\n",
      "7     7         1    2.0     7   False     0       True\n",
      "8     8         2    3.0     8   False     0       True\n",
      "9     9         2    4.0     9   False     0       True\n",
      "10   10         1    6.1    10   False     0       True\n"
     ]
    }
   ],
   "source": [
    "mar = Market()\n",
    "    \n",
    "mar.accept_bid(1, 6.7, 0, True, 0)\n",
    "mar.accept_bid(1, 6.6, 1, True, 0)\n",
    "mar.accept_bid(1, 6.5, 2, True, 0)\n",
    "mar.accept_bid(1, 6.4, 3, True, 0)\n",
    "mar.accept_bid(1, 6.3, 4, True, 0)\n",
    "mar.accept_bid(1, 6, 5, True, 0)\n",
    "\n",
    "mar.accept_bid(1, 1, 6, False, 0)\n",
    "mar.accept_bid(1, 2, 7, False, 0)\n",
    "mar.accept_bid(2, 3, 8, False, 0)\n",
    "mar.accept_bid(2, 4, 9, False, 0)\n",
    "mar.accept_bid(1, 6.1, 10, False, 0)\n",
    "\n",
    "bids = mar.bm.get_df()\n",
    "transactions, extras = mar.run('huang')\n",
    "stats = mar.statistics()"
   ]
  },
  {
   "cell_type": "markdown",
   "metadata": {},
   "source": [
    "## Orignal supply and demand curves"
   ]
  },
  {
   "cell_type": "code",
   "execution_count": 3,
   "metadata": {},
   "outputs": [
    {
     "data": {
      "image/png": "[encoded data removed]",
      "text/plain": [
       "<Figure size 432x288 with 1 Axes>"
      ]
     },
     "metadata": {
      "needs_background": "light"
     },
     "output_type": "display_data"
    }
   ],
   "source": [
    "mar.plot()"
   ]
  },
  {
   "cell_type": "markdown",
   "metadata": {},
   "source": [
    "## Supply and demand curves after market is splitted"
   ]
  },
  {
   "cell_type": "code",
   "execution_count": 4,
   "metadata": {},
   "outputs": [
    {
     "data": {
      "image/png": "[encoded data removed]",
      "text/plain": [
       "<Figure size 576x432 with 1 Axes>"
      ]
     },
     "metadata": {
      "needs_background": "light"
     },
     "output_type": "display_data"
    }
   ],
   "source": [
    "fig, ax = plt.subplots(figsize=(8, 6))\n",
    "ax = mar.plot_method('huang', ax=ax)\n",
    "fig.savefig('tests/test_images/huang_plot_1.png')"
   ]
  },
  {
   "cell_type": "markdown",
   "metadata": {},
   "source": [
    "## Analysis of the trade\n",
    "\n",
    "### Trading price\n",
    "\n",
    "* Selling Price: 4, defined by bid 9, consequently, 9 does not trade\n",
    "* Buying Price:  6, defined by bid 5, consequently, 5 does not trade\n",
    "\n",
    "### Actually trading\n",
    "\n",
    "* Buying: 0, 1, 2, 3\n",
    "* Selling: 6, 7, 8\n",
    "\n",
    "### Results\n",
    "\n",
    "* Supply and demand have the same size.\n",
    "* The profit of the market maker coincides with the blue shaded area"
   ]
  },
  {
   "cell_type": "markdown",
   "metadata": {},
   "source": [
    "# Statistics"
   ]
  },
  {
   "cell_type": "code",
   "execution_count": 11,
   "metadata": {},
   "outputs": [
    {
     "name": "stdout",
     "output_type": "stream",
     "text": [
      "Percentage of the maximum possible traded quantity\n"
     ]
    },
    {
     "data": {
      "text/plain": [
       "0.6666666666659999"
      ]
     },
     "execution_count": 11,
     "metadata": {},
     "output_type": "execute_result"
    }
   ],
   "source": [
    "print('Percentage of the maximum possible traded quantity')\n",
    "stats['percentage_traded']"
   ]
  },
  {
   "cell_type": "code",
   "execution_count": 12,
   "metadata": {},
   "outputs": [
    {
     "name": "stdout",
     "output_type": "stream",
     "text": [
      "Percentage of the maximum possible total welfare\n"
     ]
    },
    {
     "data": {
      "text/plain": [
       "0.4186046511627907"
      ]
     },
     "execution_count": 12,
     "metadata": {},
     "output_type": "execute_result"
    }
   ],
   "source": [
    "print('Percentage of the maximum possible total welfare')\n",
    "stats['percentage_welfare']"
   ]
  },
  {
   "cell_type": "code",
   "execution_count": 13,
   "metadata": {},
   "outputs": [
    {
     "name": "stdout",
     "output_type": "stream",
     "text": [
      "Profits per user\n",
      "User  0 obtained a profit of 0.56\n",
      "User  1 obtained a profit of 0.48\n",
      "User  2 obtained a profit of 0.40\n",
      "User  3 obtained a profit of 0.32\n",
      "User  4 obtained a profit of 0.24\n",
      "User  5 obtained a profit of 0.00\n",
      "User  6 obtained a profit of 3.00\n",
      "User  7 obtained a profit of 2.00\n",
      "User  8 obtained a profit of 2.00\n",
      "User  9 obtained a profit of 0.00\n",
      "User 10 obtained a profit of 0.00\n"
     ]
    }
   ],
   "source": [
    "print('Profits per user')\n",
    "for u in bids.user.unique():\n",
    "    print(f'User {u:2} obtained a profit of {stats[\"profits\"][\"player_bid\"][u]:0.2f}')"
   ]
  },
  {
   "cell_type": "code",
   "execution_count": 14,
   "metadata": {},
   "outputs": [
    {
     "name": "stdout",
     "output_type": "stream",
     "text": [
      "Profit to Market Maker was 8.00\n"
     ]
    }
   ],
   "source": [
    "print(f'Profit to Market Maker was {stats[\"profits\"][\"market\"]:0.2f}')"
   ]
  },
  {
   "cell_type": "code",
   "execution_count": null,
   "metadata": {},
   "outputs": [],
   "source": []
  }
 ],
 "metadata": {
  "kernelspec": {
   "display_name": "Python 3",
   "language": "python",
   "name": "python3"
  },
  "language_info": {
   "codemirror_mode": {
    "name": "ipython",
    "version": 3
   },
   "file_extension": ".py",
   "mimetype": "text/x-python",
   "name": "python",
   "nbconvert_exporter": "python",
   "pygments_lexer": "ipython3",
   "version": "3.6.8"
  }
 },
 "nbformat": 4,
 "nbformat_minor": 2
}
