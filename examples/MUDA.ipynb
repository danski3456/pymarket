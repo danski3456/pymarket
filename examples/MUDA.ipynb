{
 "cells": [
  {
   "cell_type": "code",
   "execution_count": 1,
   "metadata": {},
   "outputs": [],
   "source": [
    "%matplotlib inline\n",
    "import numpy as np\n",
    "import pandas as pd\n",
    "import matplotlib.pyplot as plt\n",
    "import networkx as nx\n",
    "import pymarket as pm"
   ]
  },
  {
   "cell_type": "markdown",
   "metadata": {},
   "source": [
    "# Creates new market"
   ]
  },
  {
   "cell_type": "code",
   "execution_count": 2,
   "metadata": {},
   "outputs": [],
   "source": [
    "r = np.random.RandomState(1234)\n",
    "mar = pm.Market()\n",
    "    \n",
    "mar.accept_bid(1, 6.7, 0, True, 0)\n",
    "mar.accept_bid(1, 6.6, 1, True, 0)\n",
    "mar.accept_bid(1, 6.5, 2, True, 0)\n",
    "mar.accept_bid(1, 6.4, 3, True, 0)\n",
    "mar.accept_bid(1, 6.3, 4, True, 0)\n",
    "mar.accept_bid(1, 6, 5, True, 0)\n",
    "\n",
    "mar.accept_bid(1, 1, 6, False, 0)\n",
    "mar.accept_bid(1, 2, 7, False, 0)\n",
    "mar.accept_bid(2, 3, 8, False, 0)\n",
    "mar.accept_bid(2, 4, 9, False, 0)\n",
    "mar.accept_bid(1, 6.1, 10, False, 0)\n",
    "\n",
    "bids = mar.bm.get_df()\n",
    "transactions, extras = mar.run('muda', r=r)\n",
    "stats = mar.statistics()"
   ]
  },
  {
   "cell_type": "markdown",
   "metadata": {},
   "source": [
    "## Orignal supply and demand curves"
   ]
  },
  {
   "cell_type": "code",
   "execution_count": 3,
   "metadata": {},
   "outputs": [
    {
     "data": {
      "image/png": "[encoded data removed]",
      "text/plain": [
       "<Figure size 432x288 with 1 Axes>"
      ]
     },
     "metadata": {
      "needs_background": "light"
     },
     "output_type": "display_data"
    }
   ],
   "source": [
    "mar.plot()"
   ]
  },
  {
   "cell_type": "markdown",
   "metadata": {},
   "source": [
    "## Supply and demand curves after market is splitted"
   ]
  },
  {
   "cell_type": "code",
   "execution_count": 4,
   "metadata": {},
   "outputs": [
    {
     "data": {
      "image/png": "[encoded data removed]",
      "text/plain": [
       "<Figure size 864x432 with 2 Axes>"
      ]
     },
     "metadata": {
      "needs_background": "light"
     },
     "output_type": "display_data"
    }
   ],
   "source": [
    "ax = mar.plot_method('muda')"
   ]
  },
  {
   "cell_type": "markdown",
   "metadata": {},
   "source": [
    "## Analysis of the Left Side\n",
    "\n",
    "### Participants\n",
    "\n",
    "* Buying: 1, 3, 4\n",
    "* Selling: 7, 8, 9\n",
    "\n",
    "### Trading price\n",
    "\n",
    "* $6.3$\n",
    "\n",
    "### Results\n",
    "\n",
    "* The long side is the supply, all demand side buys as much as they want\n",
    "* The demand side pays no fees, they are the short side\n",
    "* Bid 7, results in bid 9 not trading a unit, so the fee is $ 1 \\times (6.3 - 4) = 2.3$\n",
    "* Bid 8, results in bid 9 not trading a 2 units so the fee is $2 \\times (6.3 - 4) = 4.6$"
   ]
  },
  {
   "cell_type": "markdown",
   "metadata": {},
   "source": [
    "## Analysis of the Right Side\n",
    "\n",
    "### Participants\n",
    "\n",
    "* Buying: 0, 2, 5\n",
    "* Selling: 6, 10 (10 does not trade because bid price is greater than trading price)\n",
    "\n",
    "### Trading price\n",
    "\n",
    "* 4.65\n",
    "\n",
    "### Results\n",
    "\n",
    "* The long side is the demand, all supply side buys as much as they want\n",
    "* The supply side pays no fees, they are the short side\n",
    "* Bid 0, results in bid 2 not trading a unit, so the fee is $ 1 \\times (6.5 - 4.65) = 1.85$"
   ]
  },
  {
   "cell_type": "markdown",
   "metadata": {},
   "source": [
    "# Statistics"
   ]
  },
  {
   "cell_type": "code",
   "execution_count": 5,
   "metadata": {},
   "outputs": [
    {
     "name": "stdout",
     "output_type": "stream",
     "text": [
      "Percentage of the maximum possible traded quantity\n"
     ]
    },
    {
     "data": {
      "text/plain": [
       "0.6666666666659999"
      ]
     },
     "execution_count": 5,
     "metadata": {},
     "output_type": "execute_result"
    }
   ],
   "source": [
    "print('Percentage of the maximum possible traded quantity')\n",
    "stats['percentage_traded']"
   ]
  },
  {
   "cell_type": "code",
   "execution_count": 6,
   "metadata": {},
   "outputs": [
    {
     "name": "stdout",
     "output_type": "stream",
     "text": [
      "Percentage of the maximum possible total welfare\n"
     ]
    },
    {
     "data": {
      "text/plain": [
       "0.7906976744186046"
      ]
     },
     "execution_count": 6,
     "metadata": {},
     "output_type": "execute_result"
    }
   ],
   "source": [
    "print('Percentage of the maximum possible total welfare')\n",
    "stats['percentage_welfare']"
   ]
  },
  {
   "cell_type": "code",
   "execution_count": 7,
   "metadata": {},
   "outputs": [
    {
     "name": "stdout",
     "output_type": "stream",
     "text": [
      "Profits per user\n",
      "User  0 obtained a profit of 2.05\n",
      "User  1 obtained a profit of 0.30\n",
      "User  2 obtained a profit of 0.00\n",
      "User  3 obtained a profit of 0.10\n",
      "User  4 obtained a profit of 0.00\n",
      "User  5 obtained a profit of 0.00\n",
      "User  6 obtained a profit of 3.65\n",
      "User  7 obtained a profit of 4.30\n",
      "User  8 obtained a profit of 6.60\n",
      "User  9 obtained a profit of 0.00\n",
      "User 10 obtained a profit of 0.00\n"
     ]
    }
   ],
   "source": [
    "print('Profits per user')\n",
    "for u in bids.user.unique():\n",
    "    print(f'User {u:2} obtained a profit of {stats[\"profits\"][\"player_bid\"][u]:0.2f}')"
   ]
  },
  {
   "cell_type": "code",
   "execution_count": 8,
   "metadata": {},
   "outputs": [
    {
     "name": "stdout",
     "output_type": "stream",
     "text": [
      "Profit to Market Maker was 8.75\n"
     ]
    }
   ],
   "source": [
    "print(f'Profit to Market Maker was {stats[\"profits\"][\"market\"]:0.2f}')"
   ]
  },
  {
   "cell_type": "code",
   "execution_count": null,
   "metadata": {},
   "outputs": [],
   "source": []
  }
 ],
 "metadata": {
  "kernelspec": {
   "display_name": "Python 3",
   "language": "python",
   "name": "python3"
  },
  "language_info": {
   "codemirror_mode": {
    "name": "ipython",
    "version": 3
   },
   "file_extension": ".py",
   "mimetype": "text/x-python",
   "name": "python",
   "nbconvert_exporter": "python",
   "pygments_lexer": "ipython3",
   "version": "3.6.8"
  }
 },
 "nbformat": 4,
 "nbformat_minor": 2
}
