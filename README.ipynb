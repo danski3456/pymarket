{
 "cells": [
  {
   "cell_type": "markdown",
   "metadata": {},
   "source": [
    "# PyMarket"
   ]
  },
  {
   "cell_type": "markdown",
   "metadata": {},
   "source": [
    "[![Build Status](https://travis-ci.org/gus0k/pymarket.svg?branch=master)](https://travis-ci.org/gus0k/pymarket)\n",
    "\n",
    "[![Documentation Status](https://readthedocs.org/projects/pymarket/badge/?version=latest)](https://pymarket.readthedocs.io/en/latest/?badge=latest)\n"
   ]
  },
  {
   "cell_type": "markdown",
   "metadata": {},
   "source": [
    "PyMarket is a python library designed to ease the simulation and\n",
    "comparison of different market mechanisms.\n",
    "\n",
    "Marketplaces can be proposed to solve a diverse array of problems. They\n",
    "are used to sell ads online, bandwith spectrum, energy, etc.\n",
    "PyMarket provides a simple environment to try, simulate and compare different\n",
    "market mechanisms, a task that is inherent to the process of establishing a new\n",
    "market.\n",
    "\n",
    "As an example, Local Energy Markets (LEMs) have been proposed to syncronize energy consumption\n",
    "with surplus of renewable generation. Several mechanisms have been proposed for such a market:\n",
    "from double sided auctions to p2p trading. \n",
    "\n",
    "This library aims to provide a simple interface for such process, making results reproducible."
   ]
  },
  {
   "cell_type": "code",
   "execution_count": null,
   "metadata": {},
   "outputs": [],
   "source": []
  }
 ],
 "metadata": {
  "kernelspec": {
   "display_name": "Python 3",
   "language": "python",
   "name": "python3"
  },
  "language_info": {
   "codemirror_mode": {
    "name": "ipython",
    "version": 3
   },
   "file_extension": ".py",
   "mimetype": "text/x-python",
   "name": "python",
   "nbconvert_exporter": "python",
   "pygments_lexer": "ipython3",
   "version": "3.6.8"
  },
  "toc": {
   "base_numbering": 1,
   "nav_menu": {},
   "number_sections": true,
   "sideBar": true,
   "skip_h1_title": false,
   "title_cell": "Table of Contents",
   "title_sidebar": "Contents",
   "toc_cell": false,
   "toc_position": {},
   "toc_section_display": true,
   "toc_window_display": false
  }
 },
 "nbformat": 4,
 "nbformat_minor": 2
}
