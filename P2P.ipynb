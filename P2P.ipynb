{
 "cells": [
  {
   "cell_type": "code",
   "execution_count": 1,
   "metadata": {},
   "outputs": [],
   "source": [
    "%matplotlib inline\n",
    "import numpy as np\n",
    "import pandas as pd\n",
    "import matplotlib.pyplot as plt\n",
    "import networkx as nx\n",
    "from pymarket import Market\n",
    "from pymarket.bids.demand_curves import demand_curve_from_bids, supply_curve_from_bids\n",
    "from pymarket.plot import plot_demand_curves"
   ]
  },
  {
   "cell_type": "markdown",
   "metadata": {},
   "source": [
    "# Creates new market"
   ]
  },
  {
   "cell_type": "code",
   "execution_count": 2,
   "metadata": {},
   "outputs": [],
   "source": [
    "r = np.random.RandomState(1234)\n",
    "mar = Market()\n",
    "    \n",
    "mar.accept_bid(1, 6.7, 0, True, 0)\n",
    "mar.accept_bid(1, 6.6, 1, True, 0)\n",
    "mar.accept_bid(1, 6.5, 2, True, 0)\n",
    "mar.accept_bid(1, 6.4, 3, True, 0)\n",
    "mar.accept_bid(1, 6.3, 4, True, 0)\n",
    "mar.accept_bid(1, 6, 5, True, 0)\n",
    "\n",
    "mar.accept_bid(1, 1, 6, False, 0)\n",
    "mar.accept_bid(1, 2, 7, False, 0)\n",
    "mar.accept_bid(2, 3, 8, False, 0)\n",
    "mar.accept_bid(2, 4, 9, False, 0)\n",
    "mar.accept_bid(1, 6.1, 10, False, 0)\n",
    "\n",
    "bids = mar.bm.get_df()\n",
    "transactions, extras = mar.run('p2p', r=r)\n",
    "stats = mar.statistics()"
   ]
  },
  {
   "cell_type": "code",
   "execution_count": 88,
   "metadata": {},
   "outputs": [
    {
     "data": {
      "text/html": [
       "<div>\n",
       "<style scoped>\n",
       "    .dataframe tbody tr th:only-of-type {\n",
       "        vertical-align: middle;\n",
       "    }\n",
       "\n",
       "    .dataframe tbody tr th {\n",
       "        vertical-align: top;\n",
       "    }\n",
       "\n",
       "    .dataframe thead th {\n",
       "        text-align: right;\n",
       "    }\n",
       "</style>\n",
       "<table border=\"1\" class=\"dataframe\">\n",
       "  <thead>\n",
       "    <tr style=\"text-align: right;\">\n",
       "      <th></th>\n",
       "      <th>quantity</th>\n",
       "      <th>price</th>\n",
       "      <th>user</th>\n",
       "      <th>buying</th>\n",
       "      <th>time</th>\n",
       "      <th>divisible</th>\n",
       "    </tr>\n",
       "  </thead>\n",
       "  <tbody>\n",
       "    <tr>\n",
       "      <th>0</th>\n",
       "      <td>1</td>\n",
       "      <td>6.7</td>\n",
       "      <td>0</td>\n",
       "      <td>True</td>\n",
       "      <td>0</td>\n",
       "      <td>True</td>\n",
       "    </tr>\n",
       "    <tr>\n",
       "      <th>1</th>\n",
       "      <td>1</td>\n",
       "      <td>6.6</td>\n",
       "      <td>1</td>\n",
       "      <td>True</td>\n",
       "      <td>0</td>\n",
       "      <td>True</td>\n",
       "    </tr>\n",
       "    <tr>\n",
       "      <th>2</th>\n",
       "      <td>1</td>\n",
       "      <td>6.5</td>\n",
       "      <td>2</td>\n",
       "      <td>True</td>\n",
       "      <td>0</td>\n",
       "      <td>True</td>\n",
       "    </tr>\n",
       "    <tr>\n",
       "      <th>3</th>\n",
       "      <td>1</td>\n",
       "      <td>6.4</td>\n",
       "      <td>3</td>\n",
       "      <td>True</td>\n",
       "      <td>0</td>\n",
       "      <td>True</td>\n",
       "    </tr>\n",
       "    <tr>\n",
       "      <th>4</th>\n",
       "      <td>1</td>\n",
       "      <td>6.3</td>\n",
       "      <td>4</td>\n",
       "      <td>True</td>\n",
       "      <td>0</td>\n",
       "      <td>True</td>\n",
       "    </tr>\n",
       "    <tr>\n",
       "      <th>5</th>\n",
       "      <td>1</td>\n",
       "      <td>6.0</td>\n",
       "      <td>5</td>\n",
       "      <td>True</td>\n",
       "      <td>0</td>\n",
       "      <td>True</td>\n",
       "    </tr>\n",
       "    <tr>\n",
       "      <th>6</th>\n",
       "      <td>1</td>\n",
       "      <td>1.0</td>\n",
       "      <td>6</td>\n",
       "      <td>False</td>\n",
       "      <td>0</td>\n",
       "      <td>True</td>\n",
       "    </tr>\n",
       "    <tr>\n",
       "      <th>7</th>\n",
       "      <td>1</td>\n",
       "      <td>2.0</td>\n",
       "      <td>7</td>\n",
       "      <td>False</td>\n",
       "      <td>0</td>\n",
       "      <td>True</td>\n",
       "    </tr>\n",
       "    <tr>\n",
       "      <th>8</th>\n",
       "      <td>2</td>\n",
       "      <td>3.0</td>\n",
       "      <td>8</td>\n",
       "      <td>False</td>\n",
       "      <td>0</td>\n",
       "      <td>True</td>\n",
       "    </tr>\n",
       "    <tr>\n",
       "      <th>9</th>\n",
       "      <td>2</td>\n",
       "      <td>4.0</td>\n",
       "      <td>9</td>\n",
       "      <td>False</td>\n",
       "      <td>0</td>\n",
       "      <td>True</td>\n",
       "    </tr>\n",
       "    <tr>\n",
       "      <th>10</th>\n",
       "      <td>1</td>\n",
       "      <td>6.1</td>\n",
       "      <td>10</td>\n",
       "      <td>False</td>\n",
       "      <td>0</td>\n",
       "      <td>True</td>\n",
       "    </tr>\n",
       "  </tbody>\n",
       "</table>\n",
       "</div>"
      ],
      "text/plain": [
       "    quantity  price  user  buying  time  divisible\n",
       "0          1    6.7     0    True     0       True\n",
       "1          1    6.6     1    True     0       True\n",
       "2          1    6.5     2    True     0       True\n",
       "3          1    6.4     3    True     0       True\n",
       "4          1    6.3     4    True     0       True\n",
       "5          1    6.0     5    True     0       True\n",
       "6          1    1.0     6   False     0       True\n",
       "7          1    2.0     7   False     0       True\n",
       "8          2    3.0     8   False     0       True\n",
       "9          2    4.0     9   False     0       True\n",
       "10         1    6.1    10   False     0       True"
      ]
     },
     "execution_count": 88,
     "metadata": {},
     "output_type": "execute_result"
    }
   ],
   "source": [
    "bids"
   ]
  },
  {
   "cell_type": "markdown",
   "metadata": {},
   "source": [
    "## Orignal supply and demand curves"
   ]
  },
  {
   "cell_type": "code",
   "execution_count": 3,
   "metadata": {},
   "outputs": [
    {
     "data": {
      "image/png": "[encoded data removed]",
      "text/plain": [
       "<Figure size 432x288 with 1 Axes>"
      ]
     },
     "metadata": {
      "needs_background": "light"
     },
     "output_type": "display_data"
    }
   ],
   "source": [
    "mar.plot()"
   ]
  },
  {
   "cell_type": "markdown",
   "metadata": {},
   "source": [
    "## Trades among participants"
   ]
  },
  {
   "cell_type": "code",
   "execution_count": 82,
   "metadata": {},
   "outputs": [
    {
     "data": {
      "image/png": "[encoded data removed]",
      "text/plain": [
       "<Figure size 576x432 with 1 Axes>"
      ]
     },
     "metadata": {
      "needs_background": "light"
     },
     "output_type": "display_data"
    }
   ],
   "source": [
    "tmp = transactions.get_df()\n",
    "tmp['user_1'] = tmp.bid.map(bids.user)\n",
    "tmp['user_2'] = tmp.source.map(bids.user)\n",
    "tmp['buying'] = tmp.bid.map(bids.buying)\n",
    "buyers = bids.loc[bids['buying']].index.values\n",
    "\n",
    "G = nx.from_pandas_edgelist(tmp, 'user_1', 'user_2', ['quantity'])\n",
    "\n",
    "edge_labels = {}\n",
    "for (x,y), v in tmp.set_index(['user_1', 'user_2'])['quantity'].to_dict().items():\n",
    "    if ((x, y) not in edge_labels and (y, x) not in edge_labels):\n",
    "        edge_labels[(x,y)] = v\n",
    "\n",
    "fig, ax = plt.subplots(figsize=(8, 6))\n",
    "pos = nx.bipartite_layout(G, buyers, align='horizontal', scale=3)\n",
    "_ = nx.draw_networkx_nodes(G, pos=pos, ax=ax, node_color='k', node_size=500)\n",
    "_ = nx.draw_networkx_labels(G, pos=pos, ax=ax, font_color='w')\n",
    "_ = nx.draw_networkx_edges(G, pos=pos, label=G, ax=ax)\n",
    "_ = nx.draw_networkx_edge_labels(G, pos=pos, edge_labels=edge_labels, label_pos=0.9, ax=ax)\n",
    "_ = ax.axis('off')"
   ]
  },
  {
   "cell_type": "code",
   "execution_count": 87,
   "metadata": {},
   "outputs": [
    {
     "data": {
      "text/plain": [
       "{'trading_list': [[(3, 6), (5, 10), (2, 7), (4, 9), (0, 8)], [(5, 9), (1, 8)]]}"
      ]
     },
     "execution_count": 87,
     "metadata": {},
     "output_type": "execute_result"
    }
   ],
   "source": [
    "extras"
   ]
  },
  {
   "cell_type": "markdown",
   "metadata": {},
   "source": [
    "## Analysis of the results\n",
    "\n",
    "### Round 1\n",
    "\n",
    "* 3 trades with 6, they both trade all their quantity and are not considered for next round\n",
    "* 5 trades with 10, the asked price by 10 is to high and no trade happens, they continue in next round\n",
    "* 2 trades with 7, they both trade all their quantity and are not considered for next round\n",
    "* 4 trades with 9, they trade one unit and 9 goes to next one with one remaining unit\n",
    "* 0 trades with 8, they trade one unit and 8 goes to next one with one remaining unit\n",
    "* 1 is not paired with anyone and continues to round 2\n",
    "\n",
    "### Round 2\n",
    "\n",
    "* 5 trades with 9, they both trade all their remaining quantity and are not considered for the next round\n",
    "* 1 trades with 8, they both trade all their remaining quantity and are not considered for the next round\n",
    "* 10 is not paired and continues to the round 3\n",
    "\n",
    "### Round 3\n",
    "\n",
    "* Only 10 remains, so no trade can ocurr, the algorithm ends."
   ]
  },
  {
   "cell_type": "markdown",
   "metadata": {},
   "source": [
    "# Statistics"
   ]
  },
  {
   "cell_type": "code",
   "execution_count": 83,
   "metadata": {},
   "outputs": [
    {
     "name": "stdout",
     "output_type": "stream",
     "text": [
      "Percentage of the maximum possible traded quantity\n"
     ]
    },
    {
     "data": {
      "text/plain": [
       "0.9999999999989999"
      ]
     },
     "execution_count": 83,
     "metadata": {},
     "output_type": "execute_result"
    }
   ],
   "source": [
    "print('Percentage of the maximum possible traded quantity')\n",
    "stats['percentage_traded']"
   ]
  },
  {
   "cell_type": "code",
   "execution_count": 84,
   "metadata": {},
   "outputs": [
    {
     "name": "stdout",
     "output_type": "stream",
     "text": [
      "Percentage of the maximum possible total welfare\n"
     ]
    },
    {
     "data": {
      "text/plain": [
       "1.0"
      ]
     },
     "execution_count": 84,
     "metadata": {},
     "output_type": "execute_result"
    }
   ],
   "source": [
    "print('Percentage of the maximum possible total welfare')\n",
    "stats['percentage_welfare']"
   ]
  },
  {
   "cell_type": "code",
   "execution_count": 85,
   "metadata": {},
   "outputs": [
    {
     "name": "stdout",
     "output_type": "stream",
     "text": [
      "Profits per user\n",
      "User  0 obtained a profit of 1.85\n",
      "User  1 obtained a profit of 1.80\n",
      "User  2 obtained a profit of 2.25\n",
      "User  3 obtained a profit of 2.70\n",
      "User  4 obtained a profit of 1.15\n",
      "User  5 obtained a profit of 1.00\n",
      "User  6 obtained a profit of 2.70\n",
      "User  7 obtained a profit of 2.25\n",
      "User  8 obtained a profit of 3.65\n",
      "User  9 obtained a profit of 2.15\n",
      "User 10 obtained a profit of 0.00\n"
     ]
    }
   ],
   "source": [
    "print('Profits per user')\n",
    "for u in bids.user.unique():\n",
    "    print(f'User {u:2} obtained a profit of {stats[\"profits\"][\"player_bid\"][u]:0.2f}')"
   ]
  },
  {
   "cell_type": "code",
   "execution_count": 86,
   "metadata": {},
   "outputs": [
    {
     "name": "stdout",
     "output_type": "stream",
     "text": [
      "Profit to Market Maker was 0.00\n"
     ]
    }
   ],
   "source": [
    "print(f'Profit to Market Maker was {stats[\"profits\"][\"market\"]:0.2f}')"
   ]
  },
  {
   "cell_type": "code",
   "execution_count": null,
   "metadata": {},
   "outputs": [],
   "source": []
  }
 ],
 "metadata": {
  "kernelspec": {
   "display_name": "Python 3",
   "language": "python",
   "name": "python3"
  },
  "language_info": {
   "codemirror_mode": {
    "name": "ipython",
    "version": 3
   },
   "file_extension": ".py",
   "mimetype": "text/x-python",
   "name": "python",
   "nbconvert_exporter": "python",
   "pygments_lexer": "ipython3",
   "version": "3.6.8"
  }
 },
 "nbformat": 4,
 "nbformat_minor": 2
}
