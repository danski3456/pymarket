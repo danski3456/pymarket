{
 "cells": [
  {
   "cell_type": "markdown",
   "metadata": {},
   "source": [
    "# Creating a new mechanism"
   ]
  },
  {
   "cell_type": "code",
   "execution_count": 1,
   "metadata": {},
   "outputs": [],
   "source": [
    "import numpy as np\n",
    "import pandas as pd\n",
    "import pymarket as pm\n",
    "import matplotlib.pyplot as plt\n",
    "from pprint import pprint"
   ]
  },
  {
   "cell_type": "markdown",
   "metadata": {},
   "source": [
    "One of the advantages of `PyMarket` is the ability to easily implement and test a new idea for a mechanism. Here we will show how to implement a new mechanism and use it."
   ]
  },
  {
   "cell_type": "markdown",
   "metadata": {},
   "source": [
    "## The uniform price mechanism"
   ]
  },
  {
   "cell_type": "markdown",
   "metadata": {},
   "source": [
    "We are going to implement a uniform price mechanism that charges every trading player the clearing price.\n",
    "\n",
    "As a reference we are going to be implement the example [Here](http://pierrepinson.com/31761/Lectures/31761-Lecture1.pdf)"
   ]
  },
  {
   "cell_type": "markdown",
   "metadata": {},
   "source": [
    "We can begin by adding the corresponding bids to a new market"
   ]
  },
  {
   "cell_type": "code",
   "execution_count": 2,
   "metadata": {},
   "outputs": [
    {
     "data": {
      "text/plain": [
       "26"
      ]
     },
     "execution_count": 2,
     "metadata": {},
     "output_type": "execute_result"
    }
   ],
   "source": [
    "mar = pm.Market()\n",
    "\n",
    "buyers_names = ['CleanRetail', 'El4You', 'EVcharge', 'QualiWatt', 'IntelliWatt']\n",
    "\n",
    "mar.accept_bid(250, 200, 0, True) # CleanRetail  0\n",
    "mar.accept_bid(300, 110, 1, True) # El4You       1\n",
    "mar.accept_bid(120, 100, 2, True) # EVcharge     2\n",
    "mar.accept_bid( 80,  90, 3, True) # QualiWatt    3\n",
    "mar.accept_bid( 40,  85, 4, True) # IntelliWatt  4\n",
    "mar.accept_bid( 70,  75, 1, True) # El4You       5\n",
    "mar.accept_bid( 60,  65, 0, True) # CleanRetail  6\n",
    "mar.accept_bid( 45,  40, 4, True) # IntelliWatt  7\n",
    "mar.accept_bid( 30,  38, 3, True) # QualiWatt    8\n",
    "mar.accept_bid( 35,  31, 4, True) # IntelliWatt  9\n",
    "mar.accept_bid( 25,  24, 0, True) # CleanRetail  10\n",
    "mar.accept_bid( 10,  21, 1, True) # El4You       11\n",
    "\n",
    "sellers_names = ['RT', 'WeTrustInWind', 'BlueHydro', 'KøbenhavnCHP', 'DirtyPower', 'SafePeak']\n",
    "\n",
    "mar.accept_bid(120,   0, 5, False) # RT             12\n",
    "mar.accept_bid(50,    0, 6, False) # WeTrustInWind  13\n",
    "mar.accept_bid(200,  15, 7, False) # BlueHydro      14\n",
    "mar.accept_bid(400,  30, 5, False) # RT             15\n",
    "mar.accept_bid(60, 32.5, 8, False) # KøbenhavnCHP   16\n",
    "mar.accept_bid(50,   34, 8, False) # KøbenhavnCHP   17\n",
    "mar.accept_bid(60,   36, 8, False) # KøbenhavnCHP   18\n",
    "mar.accept_bid(100,37.5, 9, False) # DirtyPower     19\n",
    "mar.accept_bid(70,   39, 9, False) # DirtyPower     20\n",
    "mar.accept_bid(50,   40, 9, False) # DirtyPower     21\n",
    "mar.accept_bid(70,   60, 5, False) # RT             22\n",
    "mar.accept_bid(45,   70, 5, False) # RT             23\n",
    "mar.accept_bid(50,  100, 10, False) # SafePeak      24\n",
    "mar.accept_bid(60,  150, 10, False) # SafePeak      25\n",
    "mar.accept_bid(50,  200, 10, False) # SafePeak      26"
   ]
  },
  {
   "cell_type": "code",
   "execution_count": 3,
   "metadata": {},
   "outputs": [
    {
     "data": {
      "text/plain": [
       "(12, 15, 22, 23)"
      ]
     },
     "execution_count": 3,
     "metadata": {},
     "output_type": "execute_result"
    }
   ],
   "source": [
    "12, 15, 22, 23"
   ]
  },
  {
   "cell_type": "code",
   "execution_count": 4,
   "metadata": {},
   "outputs": [
    {
     "data": {
      "image/png": "[encoded data removed]",
      "text/plain": [
       "<Figure size 432x288 with 1 Axes>"
      ]
     },
     "metadata": {
      "needs_background": "light"
     },
     "output_type": "display_data"
    }
   ],
   "source": [
    "mar.plot()"
   ]
  },
  {
   "cell_type": "markdown",
   "metadata": {},
   "source": [
    "## Implementing the mechanism\n",
    "\n",
    "All market mechanisms take as arguements a bids dataframe (as well as possibly extra parameters) and returns a `TransactionManager` and an `extras`  dictionary."
   ]
  },
  {
   "cell_type": "code",
   "execution_count": 13,
   "metadata": {},
   "outputs": [],
   "source": [
    "def uniform_price_mechanism(bids: pd.DataFrame) -> (pm.TransactionManager, dict):\n",
    "    \n",
    "    trans = pm.TransactionManager()\n",
    "    \n",
    "    buy, _ = pm.bids.demand_curve_from_bids(bids) # Creates demand curve from bids\n",
    "    sell, _ = pm.bids.supply_curve_from_bids(bids) # Creates supply curve from bids\n",
    "\n",
    "    # q_ is the quantity at which supply and demand meet\n",
    "    # price is the price at which that happens\n",
    "    # b_ is the index of the buyer in that position\n",
    "    # s_ is the index of the seller in that position\n",
    "    q_, b_, s_, price = pm.bids.intersect_stepwise(buy, sell)\n",
    "    \n",
    "    buying_bids  = bids.loc[bids['buying']].sort_values('price', ascending=False)\n",
    "    selling_bids = bids.loc[~bids['buying']].sort_values('price', ascending=True)\n",
    "    \n",
    "    ## Filter only the trading bids.\n",
    "    buying_bids = buying_bids.iloc[: b_ + 1, :]\n",
    "    selling_bids = selling_bids.iloc[: s_ + 1, :]\n",
    "    \n",
    "    # Find the long side of the market\n",
    "    buying_quantity = buying_bids.quantity.sum()\n",
    "    selling_quantity = selling_bids.quantity.sum()\n",
    "    \n",
    "    \n",
    "    if buying_quantity > selling_quantity:\n",
    "        long_side = buying_bids\n",
    "        short_side = selling_bids\n",
    "    else:\n",
    "        long_side = selling_bids\n",
    "        short_side = buying_bids\n",
    "        \n",
    "    traded_quantity = short_side.quantity.sum()\n",
    "    \n",
    "    ## All the short side will trade at `price`\n",
    "    ## The -1 is there because there is no clear 1 to 1 trade.\n",
    "    for i, x in short_side.iterrows():\n",
    "        t = (i, x.quantity, price, -1, False)\n",
    "        trans.add_transaction(*t)\n",
    "\n",
    "    ## The long side has to trade only up to the short side\n",
    "    quantity_added = 0\n",
    "    for i, x in long_side.iterrows():\n",
    "        \n",
    "        if x.quantity + quantity_added <= traded_quantity:\n",
    "            x_quantity = x.quantity\n",
    "        else:\n",
    "            x_quantity = traded_quantity - quantity_added\n",
    "        t = (i, x_quantity, price, -1, False)\n",
    "        trans.add_transaction(*t)\n",
    "        quantity_added += x.quantity\n",
    "        \n",
    "    extra = {\n",
    "        'clearing quantity': q_,\n",
    "        'clearing price': price\n",
    "    }\n",
    "    \n",
    "    \n",
    "    \n",
    "    return trans, extra"
   ]
  },
  {
   "cell_type": "markdown",
   "metadata": {},
   "source": [
    "## Wrapping the algorithm as a mechanism"
   ]
  },
  {
   "cell_type": "code",
   "execution_count": 14,
   "metadata": {},
   "outputs": [],
   "source": [
    "# Observe that we add as the second argument of init the algorithm just coded\n",
    "class UniformPrice(pm.Mechanism):\n",
    "    \"\"\"\n",
    "    Interface for our new uniform price mechanism.\n",
    "    \n",
    "    Parameters\n",
    "    -----------\n",
    "    bids\n",
    "        Collection of bids to run the mechanism\n",
    "        with.\n",
    "    \"\"\"\n",
    "\n",
    "    def __init__(self, bids, *args, **kwargs):\n",
    "        \"\"\"TODO: to be defined1. \"\"\"\n",
    "        pm.Mechanism.__init__(self, uniform_price_mechanism, bids, *args, **kwargs)"
   ]
  },
  {
   "cell_type": "markdown",
   "metadata": {},
   "source": [
    "## Adding the new mechanism to the list of available mechanism of the market"
   ]
  },
  {
   "cell_type": "code",
   "execution_count": 15,
   "metadata": {},
   "outputs": [],
   "source": [
    "pm.market.MECHANISM['uniform'] = UniformPrice"
   ]
  },
  {
   "cell_type": "markdown",
   "metadata": {},
   "source": [
    "## Running the new mechanism and comparing it with Huang's and P2P"
   ]
  },
  {
   "cell_type": "code",
   "execution_count": 24,
   "metadata": {},
   "outputs": [],
   "source": [
    "stats = {}\n",
    "for mec in ['uniform', 'huang', 'p2p']:\n",
    "    t, e = mar.run(mec)\n",
    "    stat = mar.statistics()\n",
    "    stats[mec] = stat"
   ]
  },
  {
   "cell_type": "markdown",
   "metadata": {},
   "source": [
    "### Profits for the players in the different mechanism"
   ]
  },
  {
   "cell_type": "code",
   "execution_count": 33,
   "metadata": {},
   "outputs": [
    {
     "data": {
      "text/html": [
       "<div>\n",
       "<style scoped>\n",
       "    .dataframe tbody tr th:only-of-type {\n",
       "        vertical-align: middle;\n",
       "    }\n",
       "\n",
       "    .dataframe tbody tr th {\n",
       "        vertical-align: top;\n",
       "    }\n",
       "\n",
       "    .dataframe thead th {\n",
       "        text-align: right;\n",
       "    }\n",
       "</style>\n",
       "<table border=\"1\" class=\"dataframe\">\n",
       "  <thead>\n",
       "    <tr style=\"text-align: right;\">\n",
       "      <th></th>\n",
       "      <th>uniform</th>\n",
       "      <th>huang</th>\n",
       "      <th>p2p</th>\n",
       "    </tr>\n",
       "  </thead>\n",
       "  <tbody>\n",
       "    <tr>\n",
       "      <th>0</th>\n",
       "      <td>42275.0</td>\n",
       "      <td>41529.375</td>\n",
       "      <td>22890.0</td>\n",
       "    </tr>\n",
       "    <tr>\n",
       "      <th>1</th>\n",
       "      <td>24375.0</td>\n",
       "      <td>23849.375</td>\n",
       "      <td>12980.0</td>\n",
       "    </tr>\n",
       "    <tr>\n",
       "      <th>2</th>\n",
       "      <td>7500.0</td>\n",
       "      <td>7246.250</td>\n",
       "      <td>3150.0</td>\n",
       "    </tr>\n",
       "    <tr>\n",
       "      <th>3</th>\n",
       "      <td>4215.0</td>\n",
       "      <td>3997.500</td>\n",
       "      <td>2630.0</td>\n",
       "    </tr>\n",
       "    <tr>\n",
       "      <th>4</th>\n",
       "      <td>2012.5</td>\n",
       "      <td>1816.875</td>\n",
       "      <td>1162.5</td>\n",
       "    </tr>\n",
       "    <tr>\n",
       "      <th>5</th>\n",
       "      <td>7500.0</td>\n",
       "      <td>7500.000</td>\n",
       "      <td>14647.5</td>\n",
       "    </tr>\n",
       "    <tr>\n",
       "      <th>6</th>\n",
       "      <td>1875.0</td>\n",
       "      <td>1875.000</td>\n",
       "      <td>810.0</td>\n",
       "    </tr>\n",
       "    <tr>\n",
       "      <th>7</th>\n",
       "      <td>4500.0</td>\n",
       "      <td>4500.000</td>\n",
       "      <td>18500.0</td>\n",
       "    </tr>\n",
       "    <tr>\n",
       "      <th>8</th>\n",
       "      <td>565.0</td>\n",
       "      <td>565.000</td>\n",
       "      <td>3910.0</td>\n",
       "    </tr>\n",
       "    <tr>\n",
       "      <th>9</th>\n",
       "      <td>0.0</td>\n",
       "      <td>0.000</td>\n",
       "      <td>4570.0</td>\n",
       "    </tr>\n",
       "    <tr>\n",
       "      <th>10</th>\n",
       "      <td>0.0</td>\n",
       "      <td>0.000</td>\n",
       "      <td>375.0</td>\n",
       "    </tr>\n",
       "  </tbody>\n",
       "</table>\n",
       "</div>"
      ],
      "text/plain": [
       "    uniform      huang      p2p\n",
       "0   42275.0  41529.375  22890.0\n",
       "1   24375.0  23849.375  12980.0\n",
       "2    7500.0   7246.250   3150.0\n",
       "3    4215.0   3997.500   2630.0\n",
       "4    2012.5   1816.875   1162.5\n",
       "5    7500.0   7500.000  14647.5\n",
       "6    1875.0   1875.000    810.0\n",
       "7    4500.0   4500.000  18500.0\n",
       "8     565.0    565.000   3910.0\n",
       "9       0.0      0.000   4570.0\n",
       "10      0.0      0.000    375.0"
      ]
     },
     "execution_count": 33,
     "metadata": {},
     "output_type": "execute_result"
    }
   ],
   "source": [
    "profits = pd.DataFrame([v['profits']['player_bid'] for k, v in stats.items()]).T\n",
    "profits.columns = stats.keys()\n",
    "profits"
   ]
  },
  {
   "cell_type": "markdown",
   "metadata": {},
   "source": [
    "### Percentage traded by mechanism"
   ]
  },
  {
   "cell_type": "code",
   "execution_count": 36,
   "metadata": {},
   "outputs": [
    {
     "data": {
      "text/html": [
       "<div>\n",
       "<style scoped>\n",
       "    .dataframe tbody tr th:only-of-type {\n",
       "        vertical-align: middle;\n",
       "    }\n",
       "\n",
       "    .dataframe tbody tr th {\n",
       "        vertical-align: top;\n",
       "    }\n",
       "\n",
       "    .dataframe thead th {\n",
       "        text-align: right;\n",
       "    }\n",
       "</style>\n",
       "<table border=\"1\" class=\"dataframe\">\n",
       "  <thead>\n",
       "    <tr style=\"text-align: right;\">\n",
       "      <th></th>\n",
       "      <th>uniform</th>\n",
       "      <th>huang</th>\n",
       "      <th>p2p</th>\n",
       "    </tr>\n",
       "  </thead>\n",
       "  <tbody>\n",
       "    <tr>\n",
       "      <th>0</th>\n",
       "      <td>0.934</td>\n",
       "      <td>0.883</td>\n",
       "      <td>0.995</td>\n",
       "    </tr>\n",
       "  </tbody>\n",
       "</table>\n",
       "</div>"
      ],
      "text/plain": [
       "   uniform  huang    p2p\n",
       "0    0.934  0.883  0.995"
      ]
     },
     "execution_count": 36,
     "metadata": {},
     "output_type": "execute_result"
    }
   ],
   "source": [
    "traded = pd.DataFrame([v['percentage_traded'].round(3) for k, v in stats.items()]).T\n",
    "traded.columns = stats.keys()\n",
    "traded"
   ]
  },
  {
   "cell_type": "markdown",
   "metadata": {},
   "source": [
    "### Percentage of the maximum social welfare achieved by mechanism"
   ]
  },
  {
   "cell_type": "code",
   "execution_count": 38,
   "metadata": {},
   "outputs": [
    {
     "data": {
      "text/html": [
       "<div>\n",
       "<style scoped>\n",
       "    .dataframe tbody tr th:only-of-type {\n",
       "        vertical-align: middle;\n",
       "    }\n",
       "\n",
       "    .dataframe tbody tr th {\n",
       "        vertical-align: top;\n",
       "    }\n",
       "\n",
       "    .dataframe thead th {\n",
       "        text-align: right;\n",
       "    }\n",
       "</style>\n",
       "<table border=\"1\" class=\"dataframe\">\n",
       "  <thead>\n",
       "    <tr style=\"text-align: right;\">\n",
       "      <th></th>\n",
       "      <th>uniform</th>\n",
       "      <th>huang</th>\n",
       "      <th>p2p</th>\n",
       "    </tr>\n",
       "  </thead>\n",
       "  <tbody>\n",
       "    <tr>\n",
       "      <th>0</th>\n",
       "      <td>1.0</td>\n",
       "      <td>0.98</td>\n",
       "      <td>0.903</td>\n",
       "    </tr>\n",
       "  </tbody>\n",
       "</table>\n",
       "</div>"
      ],
      "text/plain": [
       "   uniform  huang    p2p\n",
       "0      1.0   0.98  0.903"
      ]
     },
     "execution_count": 38,
     "metadata": {},
     "output_type": "execute_result"
    }
   ],
   "source": [
    "welfare = pd.DataFrame([v['percentage_welfare'].round(3) for k, v in stats.items()]).T\n",
    "welfare.columns = stats.keys()\n",
    "welfare"
   ]
  },
  {
   "cell_type": "code",
   "execution_count": null,
   "metadata": {},
   "outputs": [],
   "source": []
  }
 ],
 "metadata": {
  "kernelspec": {
   "display_name": "Python 3",
   "language": "python",
   "name": "python3"
  },
  "language_info": {
   "codemirror_mode": {
    "name": "ipython",
    "version": 3
   },
   "file_extension": ".py",
   "mimetype": "text/x-python",
   "name": "python",
   "nbconvert_exporter": "python",
   "pygments_lexer": "ipython3",
   "version": "3.6.8"
  },
  "toc": {
   "base_numbering": 1,
   "nav_menu": {},
   "number_sections": true,
   "sideBar": true,
   "skip_h1_title": false,
   "title_cell": "Table of Contents",
   "title_sidebar": "Contents",
   "toc_cell": false,
   "toc_position": {},
   "toc_section_display": true,
   "toc_window_display": false
  }
 },
 "nbformat": 4,
 "nbformat_minor": 2
}
